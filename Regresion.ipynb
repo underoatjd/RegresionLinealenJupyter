{
 "cells": [
  {
   "cell_type": "markdown",
   "source": [
    "                                                    Regresion Lineal\n",
    "\n",
    "La regresión lineal es un método estadístico que trata de modelar la relación entre una variable continua y una o más variables independientes mediante el ajuste de una ecuación lineal. Se llama regresión lineal simple cuando solo hay una variable independiente y regresión lineal múltiple cuando hay más de una.\n",
    "\n",
    "El ejemplo que vamos a utilizar a continuación es un modelo de Machine Learning que será entrenado para descubrir como convertir grados Celsius a grafos Fahrenheit.\n",
    " \n",
    "Fahrenheit\t°F = 1,8°C + 32°\n",
    "Celsius\t°C =5/9(°F-32°)\n",
    "\n",
    "Aunque nosotros tenemos la formula y sabemos como proceder, el modelo ignora completamente el procedimiento, y aprenderá a ajustar sus nodos de acuerdo a los resultados de los datos de salida con respecto a los datos de entrada."
   ],
   "metadata": {
    "collapsed": false
   }
  },
  {
   "cell_type": "code",
   "execution_count": 12,
   "metadata": {
    "ExecuteTime": {
     "end_time": "2023-12-26T01:51:42.226957400Z",
     "start_time": "2023-12-26T01:51:38.256580400Z"
    }
   },
   "outputs": [
    {
     "name": "stdout",
     "output_type": "stream",
     "text": [
      "14\n",
      "El resultado de la conversion es: 57.2\n",
      "Fin del programa\n"
     ]
    }
   ],
   "source": [
    "#                Modelo de programación convencional para la transformación de grados.\n",
    "\n",
    "# Escogemos el tipo de variable, en este caso indicamos si los valores estan representados en Celcius o en Fahrenheit.\n",
    "rta = input(str(\"Ingresa el tipo de escala de temperatura de la cual conoces los grados, (C) para Celsius o (F) para Fahrenheit: \"))\n",
    "\n",
    "# Asignamos el valor en grados de la magnitud.\n",
    "grados = int(input(\"Ingrese cantidad de grados: \"))\n",
    "print(grados)\n",
    "\n",
    "# Pasamos a mayuscula la primera respuesta\n",
    "rta2=rta.upper()\n",
    "\n",
    "#ahora creamos un ciclo condicional que dependiendo del procedimiento mostrara un resultado ajustado.\n",
    "if rta2 ==\"C\":\n",
    "    resultado = 1.8 * grados + 32\n",
    "    print(f\"El resultado de la conversion es: {resultado}\")\n",
    "elif rta2 ==\"F\":\n",
    "    resultado = 5/9*(grados-32)\n",
    "    print(f\"El resultado de la conversion es: {resultado}\")\n",
    "else:\n",
    "    print(\"Resultado equivocado, reinicia el programa.\")\n",
    "    \n",
    "print(\"Fin del programa\")    "
   ]
  },
  {
   "cell_type": "markdown",
   "source": [
    "                 Modelo programado o asociado al Machine Learing\n",
    "                 \n",
    "En este siguiente caso usaremos el aprendizaje automático para que el sistema pueda realizar la conversión de forma correcta, se le entregaran datos de entrada y datos de salida con respecto a los datos de entrada, de esta forma l sistema podrá entrenarse de forma correcta. "
   ],
   "metadata": {
    "collapsed": false
   }
  },
  {
   "cell_type": "code",
   "execution_count": 13,
   "outputs": [
    {
     "name": "stdout",
     "output_type": "stream",
     "text": [
      "<class 'pandas.core.frame.DataFrame'>\n",
      "RangeIndex: 10 entries, 0 to 9\n",
      "Data columns (total 2 columns):\n",
      " #   Column      Non-Null Count  Dtype  \n",
      "---  ------      --------------  -----  \n",
      " 0   celcius     10 non-null     int64  \n",
      " 1   fahrenheit  10 non-null     float64\n",
      "dtypes: float64(1), int64(1)\n",
      "memory usage: 288.0 bytes\n"
     ]
    },
    {
     "data": {
      "text/plain": "   celcius  fahrenheit\n0      -40       -40.0\n1      -10        12.2\n2        1        33.8\n3        3        37.4\n4        5        41.0",
      "text/html": "<div>\n<style scoped>\n    .dataframe tbody tr th:only-of-type {\n        vertical-align: middle;\n    }\n\n    .dataframe tbody tr th {\n        vertical-align: top;\n    }\n\n    .dataframe thead th {\n        text-align: right;\n    }\n</style>\n<table border=\"1\" class=\"dataframe\">\n  <thead>\n    <tr style=\"text-align: right;\">\n      <th></th>\n      <th>celcius</th>\n      <th>fahrenheit</th>\n    </tr>\n  </thead>\n  <tbody>\n    <tr>\n      <th>0</th>\n      <td>-40</td>\n      <td>-40.0</td>\n    </tr>\n    <tr>\n      <th>1</th>\n      <td>-10</td>\n      <td>12.2</td>\n    </tr>\n    <tr>\n      <th>2</th>\n      <td>1</td>\n      <td>33.8</td>\n    </tr>\n    <tr>\n      <th>3</th>\n      <td>3</td>\n      <td>37.4</td>\n    </tr>\n    <tr>\n      <th>4</th>\n      <td>5</td>\n      <td>41.0</td>\n    </tr>\n  </tbody>\n</table>\n</div>"
     },
     "execution_count": 13,
     "metadata": {},
     "output_type": "execute_result"
    }
   ],
   "source": [
    "#              Modelo de Machine Learning para conversor de magnitudes de temperatura.\n",
    "# importamos la primera libreria que vamos a utilizar para leer el archivo .csv\n",
    "import pandas as pd\n",
    "\n",
    "# Ejecutamos el comando de lectrura de archivo .csv \n",
    "datos = pd.read_csv(\"celcius.csv\")\n",
    "\n",
    "# Podemos utilizar la funcion .info() para mostrar los metadatos del dataframe  \n",
    "datos.info()\n",
    "\n",
    "# Utilizamos datos .head() para dar un vistazo superficial a los datos.\n",
    "datos.head()"
   ],
   "metadata": {
    "collapsed": false,
    "ExecuteTime": {
     "end_time": "2023-12-26T01:52:38.302550700Z",
     "start_time": "2023-12-26T01:52:38.290224300Z"
    }
   }
  },
  {
   "cell_type": "markdown",
   "source": [
    "\n",
    "                                     Realizaremos un grafico\n",
    "\n",
    "Procederemos a crear un gráfico con la librería seaborn en la relación de nuestras dos variables: Celsius y Fahrenheit.\n"
   ],
   "metadata": {
    "collapsed": false
   }
  },
  {
   "cell_type": "code",
   "execution_count": 14,
   "outputs": [
    {
     "data": {
      "text/plain": "<Axes: xlabel='celcius', ylabel='fahrenheit'>"
     },
     "execution_count": 14,
     "metadata": {},
     "output_type": "execute_result"
    },
    {
     "data": {
      "text/plain": "<Figure size 640x480 with 1 Axes>",
      "image/png": "[encoded data removed]"
     },
     "metadata": {},
     "output_type": "display_data"
    }
   ],
   "source": [
    "# debemos importar la libreria seaborn\n",
    "import seaborn as sb\n",
    "# Con esta linea creamos la grafica indicacondo que use datos y grafique X y Y\n",
    "sb.scatterplot(x=\"celcius\",y=\"fahrenheit\",data=datos)\n",
    "# Con esta linea creamos la grafica anterior pero gregamos agrupacion por color hue=\"{}\"\n",
    "sb.scatterplot(x=\"celcius\",y=\"fahrenheit\",data=datos, hue=\"celcius\",palette=\"coolwarm\")"
   ],
   "metadata": {
    "collapsed": false,
    "ExecuteTime": {
     "end_time": "2023-12-26T01:52:48.625266300Z",
     "start_time": "2023-12-26T01:52:48.418897900Z"
    }
   }
  },
  {
   "cell_type": "markdown",
   "source": [
    "                                        Caracterizar nuestros datos\n",
    "\n",
    "Procederemos a separar los datos en sus caracteristicas, en este momento solo los podemos divivir en 2, F y C.\n"
   ],
   "metadata": {
    "collapsed": false
   }
  },
  {
   "cell_type": "code",
   "execution_count": 15,
   "outputs": [
    {
     "name": "stdout",
     "output_type": "stream",
     "text": [
      "[[-40]\n",
      " [-10]\n",
      " [  1]\n",
      " [  3]\n",
      " [  5]\n",
      " [  9]\n",
      " [ 14]\n",
      " [ 16]\n",
      " [ 23]\n",
      " [ 38]] [[-40. ]\n",
      " [ 12.2]\n",
      " [ 33.8]\n",
      " [ 37.4]\n",
      " [ 41. ]\n",
      " [ 48.2]\n",
      " [ 57.2]\n",
      " [ 60.8]\n",
      " [ 73.4]\n",
      " [100.4]]\n"
     ]
    }
   ],
   "source": [
    "# se ajustan los ejes a sus respectivas variables.\n",
    "x = datos[\"celcius\"]\n",
    "y = datos[\"fahrenheit\"]\n",
    "# Debemos trasformar el arreglo x a una matrix para poder ser procesado por el modelo.\n",
    "# para ello utilizaremos la funcion X.values.reshape(-1,1), lo que devilvera la matrix\n",
    "x_procesada = x.values.reshape(-1,1)\n",
    "y_procesada = y.values.reshape(-1,1)\n",
    "#Verificamos que sean una matrix\n",
    "print(x_procesada,y_procesada)"
   ],
   "metadata": {
    "collapsed": false,
    "ExecuteTime": {
     "end_time": "2023-12-26T01:53:05.877842500Z",
     "start_time": "2023-12-26T01:53:05.874674300Z"
    }
   }
  },
  {
   "cell_type": "markdown",
   "source": [
    "                                         Modelo\n",
    "\n",
    "Los datos estan listos, esto indica que podemos proceder con el modelo, asi que usemos sklearn para crearlo"
   ],
   "metadata": {
    "collapsed": false
   }
  },
  {
   "cell_type": "code",
   "execution_count": 17,
   "outputs": [
    {
     "data": {
      "text/plain": "LinearRegression()",
      "text/html": "<style>#sk-container-id-3 {color: black;}#sk-container-id-3 pre{padding: 0;}#sk-container-id-3 div.sk-toggleable {background-color: white;}#sk-container-id-3 label.sk-toggleable__label {cursor: pointer;display: block;width: 100%;margin-bottom: 0;padding: 0.3em;box-sizing: border-box;text-align: center;}#sk-container-id-3 label.sk-toggleable__label-arrow:before {content: \"▸\";float: left;margin-right: 0.25em;color: #696969;}#sk-container-id-3 label.sk-toggleable__label-arrow:hover:before {color: black;}#sk-container-id-3 div.sk-estimator:hover label.sk-toggleable__label-arrow:before {color: black;}#sk-container-id-3 div.sk-toggleable__content {max-height: 0;max-width: 0;overflow: hidden;text-align: left;background-color: #f0f8ff;}#sk-container-id-3 div.sk-toggleable__content pre {margin: 0.2em;color: black;border-radius: 0.25em;background-color: #f0f8ff;}#sk-container-id-3 input.sk-toggleable__control:checked~div.sk-toggleable__content {max-height: 200px;max-width: 100%;overflow: auto;}#sk-container-id-3 input.sk-toggleable__control:checked~label.sk-toggleable__label-arrow:before {content: \"▾\";}#sk-container-id-3 div.sk-estimator input.sk-toggleable__control:checked~label.sk-toggleable__label {background-color: #d4ebff;}#sk-container-id-3 div.sk-label input.sk-toggleable__control:checked~label.sk-toggleable__label {background-color: #d4ebff;}#sk-container-id-3 input.sk-hidden--visually {border: 0;clip: rect(1px 1px 1px 1px);clip: rect(1px, 1px, 1px, 1px);height: 1px;margin: -1px;overflow: hidden;padding: 0;position: absolute;width: 1px;}#sk-container-id-3 div.sk-estimator {font-family: monospace;background-color: #f0f8ff;border: 1px dotted black;border-radius: 0.25em;box-sizing: border-box;margin-bottom: 0.5em;}#sk-container-id-3 div.sk-estimator:hover {background-color: #d4ebff;}#sk-container-id-3 div.sk-parallel-item::after {content: \"\";width: 100%;border-bottom: 1px solid gray;flex-grow: 1;}#sk-container-id-3 div.sk-label:hover label.sk-toggleable__label {background-color: #d4ebff;}#sk-container-id-3 div.sk-serial::before {content: \"\";position: absolute;border-left: 1px solid gray;box-sizing: border-box;top: 0;bottom: 0;left: 50%;z-index: 0;}#sk-container-id-3 div.sk-serial {display: flex;flex-direction: column;align-items: center;background-color: white;padding-right: 0.2em;padding-left: 0.2em;position: relative;}#sk-container-id-3 div.sk-item {position: relative;z-index: 1;}#sk-container-id-3 div.sk-parallel {display: flex;align-items: stretch;justify-content: center;background-color: white;position: relative;}#sk-container-id-3 div.sk-item::before, #sk-container-id-3 div.sk-parallel-item::before {content: \"\";position: absolute;border-left: 1px solid gray;box-sizing: border-box;top: 0;bottom: 0;left: 50%;z-index: -1;}#sk-container-id-3 div.sk-parallel-item {display: flex;flex-direction: column;z-index: 1;position: relative;background-color: white;}#sk-container-id-3 div.sk-parallel-item:first-child::after {align-self: flex-end;width: 50%;}#sk-container-id-3 div.sk-parallel-item:last-child::after {align-self: flex-start;width: 50%;}#sk-container-id-3 div.sk-parallel-item:only-child::after {width: 0;}#sk-container-id-3 div.sk-dashed-wrapped {border: 1px dashed gray;margin: 0 0.4em 0.5em 0.4em;box-sizing: border-box;padding-bottom: 0.4em;background-color: white;}#sk-container-id-3 div.sk-label label {font-family: monospace;font-weight: bold;display: inline-block;line-height: 1.2em;}#sk-container-id-3 div.sk-label-container {text-align: center;}#sk-container-id-3 div.sk-container {/* jupyter's `normalize.less` sets `[hidden] { display: none; }` but bootstrap.min.css set `[hidden] { display: none !important; }` so we also need the `!important` here to be able to override the default hidden behavior on the sphinx rendered scikit-learn.org. See: https://github.com/scikit-learn/scikit-learn/issues/21755 */display: inline-block !important;position: relative;}#sk-container-id-3 div.sk-text-repr-fallback {display: none;}</style><div id=\"sk-container-id-3\" class=\"sk-top-container\"><div class=\"sk-text-repr-fallback\"><pre>LinearRegression()</pre><b>In a Jupyter environment, please rerun this cell to show the HTML representation or trust the notebook. <br />On GitHub, the HTML representation is unable to render, please try loading this page with nbviewer.org.</b></div><div class=\"sk-container\" hidden><div class=\"sk-item\"><div class=\"sk-estimator sk-toggleable\"><input class=\"sk-toggleable__control sk-hidden--visually\" id=\"sk-estimator-id-3\" type=\"checkbox\" checked><label for=\"sk-estimator-id-3\" class=\"sk-toggleable__label sk-toggleable__label-arrow\">LinearRegression</label><div class=\"sk-toggleable__content\"><pre>LinearRegression()</pre></div></div></div></div></div>"
     },
     "execution_count": 17,
     "metadata": {},
     "output_type": "execute_result"
    }
   ],
   "source": [
    "# Importamos LinearRegression\n",
    "from sklearn.linear_model import LinearRegression\n",
    "\n",
    "#definimo el modelo como: LinearRegression\n",
    "modelo = LinearRegression()\n",
    "\n",
    "# ahora realizaremos el entrenamiento con la funcion fit\n",
    "modelo.fit(x_procesada,y_procesada)"
   ],
   "metadata": {
    "collapsed": false,
    "ExecuteTime": {
     "end_time": "2023-12-26T01:53:44.180926400Z",
     "start_time": "2023-12-26T01:53:44.171695300Z"
    }
   }
  },
  {
   "cell_type": "code",
   "outputs": [
    {
     "data": {
      "text/plain": "array([[48.04279072]])"
     },
     "execution_count": 20,
     "metadata": {},
     "output_type": "execute_result"
    }
   ],
   "source": [
    "# una vez que el modelo esta entrenado procederemos con la ejecución de predicción. (probaremos con un numero ya conocido)\n",
    "modelo.predict([[9]])"
   ],
   "metadata": {
    "collapsed": false,
    "ExecuteTime": {
     "end_time": "2023-12-26T01:54:51.078689Z",
     "start_time": "2023-12-26T01:54:51.066425800Z"
    }
   },
   "execution_count": 20
  },
  {
   "cell_type": "code",
   "outputs": [
    {
     "data": {
      "text/plain": "0.9997872787098528"
     },
     "execution_count": 21,
     "metadata": {},
     "output_type": "execute_result"
    }
   ],
   "source": [
    "# una vez que el modelo esta entrenado podemos utilizar una uncion para verificar que tan bien entrenado queo el modelo\n",
    "modelo.score(x_procesada, y_procesada)"
   ],
   "metadata": {
    "collapsed": false,
    "ExecuteTime": {
     "end_time": "2023-12-26T01:56:51.516280500Z",
     "start_time": "2023-12-26T01:56:51.497765100Z"
    }
   },
   "execution_count": 21
  }
 ],
 "metadata": {
  "kernelspec": {
   "display_name": "Python 3",
   "language": "python",
   "name": "python3"
  },
  "language_info": {
   "name": "python",
   "version": "3.10.5"
  }
 },
 "nbformat": 4,
 "nbformat_minor": 2
}
