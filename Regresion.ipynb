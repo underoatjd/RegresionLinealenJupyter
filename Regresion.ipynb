{
 "cells": [
  {
   "cell_type": "markdown",
   "source": [
    "                                                    Regresion Lineal\n",
    "\n",
    "La regresión lineal es un método estadístico que trata de modelar la relación entre una variable continua y una o más variables independientes mediante el ajuste de una ecuación lineal. Se llama regresión lineal simple cuando solo hay una variable independiente y regresión lineal múltiple cuando hay más de una.\n",
    "\n",
    "El ejemplo que vamos a utilizar a continuación es un modelo de Machine Learning que será entrenado para descubrir como convertir grados Celsius a grafos Fahrenheit.\n",
    " \n",
    "Fahrenheit\t°F = 1,8°C + 32°\n",
    "Celsius\t°C =5/9(°F-32°)\n",
    "\n",
    "Aunque nosotros tenemos la formula y sabemos como proceder, el modelo ignora completamente el procedimiento, y aprenderá a ajustar sus nodos de acuerdo a los resultados de los datos de salida con respecto a los datos de entrada."
   ],
   "metadata": {
    "collapsed": false
   }
  },
  {
   "cell_type": "code",
   "execution_count": 27,
   "metadata": {
    "ExecuteTime": {
     "end_time": "2023-12-25T21:51:29.109298400Z",
     "start_time": "2023-12-25T21:51:24.948018500Z"
    }
   },
   "outputs": [
    {
     "name": "stdout",
     "output_type": "stream",
     "text": [
      "16\n",
      "El resultado de la conversion es: 60.8\n",
      "Fin del programa\n"
     ]
    }
   ],
   "source": [
    "#                Modelo de programación convencional para la transformación de grados.\n",
    "\n",
    "# Escogemos el tipo de variable, en este caso indicamos si los valores estan representados en Celcius o en Fahrenheit.\n",
    "rta = input(str(\"Ingresa el tipo de escala de temperatura de la cual conoces los grados, (C) para Celsius o (F) para Fahrenheit: \"))\n",
    "\n",
    "# Asignamos el valor en grados de la magnitud.\n",
    "grados = int(input(\"Ingrese cantidad de grados: \"))\n",
    "print(grados)\n",
    "\n",
    "# Pasamos a mayuscula la primera respuesta\n",
    "rta2=rta.upper()\n",
    "\n",
    "#ahora creamos un ciclo condicional que dependiendo del procedimiento mostrara un resultado ajustado.\n",
    "if rta2 ==\"C\":\n",
    "    resultado = 1.8 * grados + 32\n",
    "    print(f\"El resultado de la conversion es: {resultado}\")\n",
    "elif rta2 ==\"F\":\n",
    "    resultado = 5/9*(grados-32)\n",
    "    print(f\"El resultado de la conversion es: {resultado}\")\n",
    "else:\n",
    "    print(\"Resultado equivocado, reinicia el programa.\")\n",
    "    \n",
    "print(\"Fin del programa\")    "
   ]
  },
  {
   "cell_type": "markdown",
   "source": [
    "                 Modelo programado o asociado al Machine Learing\n",
    "                 \n",
    "En este siguiente caso usaremos el aprendizaje automático para que el sistema pueda realizar la conversión de forma correcta, se le entregaran datos de entrada y datos de salida con respecto a los datos de entrada, de esta forma l sistema podrá entrenarse de forma correcta. "
   ],
   "metadata": {
    "collapsed": false
   }
  },
  {
   "cell_type": "code",
   "execution_count": null,
   "outputs": [],
   "source": [
    "#              Modelo de Machine Learning para conversor de magnitudes de temperatura.\n",
    "# importamos la primera libreria que vamos a utilizar para leer el archivo .csv\n",
    "import pandas as pd\n",
    "\n",
    "# Ejecutamos el comando de lectrura de archivo .csv \n",
    "datos = pd.read_csv(\"celcius.csv\")\n",
    "\n",
    "# Podemos utilizar la funcion .info() para mostrar los metadatos del dataframe  \n",
    "datos.info()\n",
    "#print(datos)\n"
   ],
   "metadata": {
    "collapsed": false
   }
  }
 ],
 "metadata": {
  "kernelspec": {
   "display_name": "Python 3",
   "language": "python",
   "name": "python3"
  },
  "language_info": {
   "name": "python",
   "version": "3.10.5"
  }
 },
 "nbformat": 4,
 "nbformat_minor": 2
}
