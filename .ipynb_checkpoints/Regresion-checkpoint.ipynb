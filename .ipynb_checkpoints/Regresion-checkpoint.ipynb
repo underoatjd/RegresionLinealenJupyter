{
 "cells": [
  {
   "cell_type": "markdown",
   "source": [
    "                         Regresion Lineal\n",
    "\n",
    "La regresión lineal es un método estadístico que trata de modelar la relación entre una variable continua y una o más variables independientes mediante el ajuste de una ecuación lineal. Se llama regresión lineal simple cuando solo hay una variable independiente y regresión lineal múltiple cuando hay más de una.\n",
    "\n",
    "\n",
    "El ejemplo que vamos a utilizar a continuación es un modelo de Machine Learning que será entrenado para descubrir como convertir grados Celsius a grafos Fahrenheit.\n",
    " \n",
    "Fahrenheit\t°F = 1,8°C + 32°\n",
    "Celsius\t°C =5/9(°F-32°)\n",
    "\n",
    "Aunque nosotros tenemos la formula y sabemos como proceder, el modelo ignora completamente el procedimiento, y aprenderá a ajustar sus nodos de acuerdo a los resultados de los datos de salida con respecto a los datos de entrada.\n",
    "\n"
   ],
   "metadata": {
    "collapsed": false
   }
  },
  {
   "cell_type": "code",
   "execution_count": 3,
   "metadata": {
    "ExecuteTime": {
     "end_time": "2023-12-25T17:35:45.093242300Z",
     "start_time": "2023-12-25T17:35:39.644617800Z"
    }
   },
   "outputs": [
    {
     "name": "stdout",
     "output_type": "stream",
     "text": [
      "C\n"
     ]
    }
   ],
   "source": [
    "rta = input(str(\"Ingresa el tipo de escala de temperatura de la cual conoces los grados, (C) para Celsius o (F) para Fahrenheit: \"))\n",
    "print(rta)"
   ]
  },
  {
   "cell_type": "code",
   "execution_count": null,
   "outputs": [],
   "source": [],
   "metadata": {
    "collapsed": false
   }
  }
 ],
 "metadata": {
  "kernelspec": {
   "display_name": "Python 3",
   "language": "python",
   "name": "python3"
  },
  "language_info": {
   "name": "python",
   "version": "3.10.5"
  }
 },
 "nbformat": 4,
 "nbformat_minor": 2
}
